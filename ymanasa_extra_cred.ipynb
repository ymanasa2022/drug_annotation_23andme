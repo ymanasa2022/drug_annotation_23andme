{
 "cells": [
  {
   "cell_type": "markdown",
   "metadata": {},
   "source": [
    "# Extra Credit\n",
    "## Project option 1 - Drug annotation of 23andme report\n",
    "\n",
    "\n",
    "Columns in the **23andme_v5_hg19_ref.txt** file are:\n",
    "- CHR: the chromosome number\n",
    "- POS: the position of the variant - position where the difference in nucleotides is found\n",
    "- dbSNP_ID: the variant identifier in the dbSNP database (https://www.ncbi.nlm.nih.gov/snp/) (this field will contain a dot . when the SNP is not available in the dbSNP database)\n",
    "- **ALLELE_23andme** : ALLELE: the nucleotides found at that position on the pair of chromosomes\n",
    "\n",
    "\n",
    "Columns in the **var_drug_ann.tsv** file are:\n",
    "- Variant Annotation ID: unique ID number for each variant/drug annotation    \n",
    "- **dbSNP ID** : Variant/Haplotypes: dbSNP ID or haplotype(s)\n",
    "- **GENE_SYMBOL** : Gene: HGNC symbol\n",
    "- **DRUG_NAME** : Drug(s): Drug name\n",
    "- **PMID** : PubMed identifier\n",
    "- **PHENOTYPE_CATEGOERY**: Phenotype Category: options [efficacy, toxicity, dosage, metabolism/PK other]\n",
    "- **SIGNIFICANCE**: Significance: yes or no – determined by if the author stated the association was significant\n",
    "- **NOTES** :Notes: curator notes field\n",
    "- **SENTENCE**: Sentence: structured sentence\n",
    "- **ALLELE_PharmGKB**: Alleles: variant alleles in annotation\n",
    "- Specialty Population: tags for any special populations this annotation is relevant to (e.g. pediatric)\n",
    "\n",
    "And other columns: Metabolizer types, isPlural, Is/Is Not associated, Direction of effect, PD/PK terms, Multiple drugs And/or, Population types, Population Phenotypes or diseases, Multiple phenotypes or diseases And/or, Comparison Allele(s) or Genotype(s), Comparison Metabolizer types"
   ]
  },
  {
   "cell_type": "markdown",
   "metadata": {},
   "source": [
    "### Q1. Map/merge the 23andme file and the variant-drug annotation file based on dbSNP_ID (also known as rsID).\n",
    "\n",
    "The merged result should have the following columns:\n",
    "\n",
    "dbSNP_ID, GENE_SYMBOL, DRUG_NAME, PMID, PHENOTYPE_CATEGORY, SIGNIFICANCE, NOTES, SENTENCE, ALLELE_PharmGKB (variant alleles in annotation), ALLELE_23andme (variant alleles in 23andme file)"
   ]
  },
  {
   "cell_type": "markdown",
   "metadata": {},
   "source": [
    "### Q2. Filter the output so that it only contains significant associations (SIGNIFICANCE is yes) for variants that affect the drug efficacy (`PHENOTYPE_CATEGORY` is `efficacy`)."
   ]
  },
  {
   "cell_type": "markdown",
   "metadata": {},
   "source": [
    "### Q3. Save the output of the filtering step in a tab-separated file (23andme_PharmGKB_map.tsv) with the following columns:\n",
    "dbSNP_ID, GENE_SYMBOL, DRUG_NAME, NOTES, SENTENCE, ALLELE_PharmGKB, ALLELE_23andme"
   ]
  },
  {
   "cell_type": "markdown",
   "metadata": {},
   "source": [
    "### Q4. Create a tab separated file (23andme_PharmGKB_summary.tsv) with summarized data with the following columns:\n",
    "GENE_SYMBOL, DRUG_NAME, dbSNP_IDs (list of IDs separated by \";\")"
   ]
  },
  {
   "cell_type": "markdown",
   "metadata": {},
   "source": [
    "### Q5. Plot the distribution (histogram) of the number of drugs associated with a gene, and the number of SNPs for a gene."
   ]
  }
 ],
 "metadata": {
  "language_info": {
   "name": "python"
  },
  "orig_nbformat": 4
 },
 "nbformat": 4,
 "nbformat_minor": 2
}
